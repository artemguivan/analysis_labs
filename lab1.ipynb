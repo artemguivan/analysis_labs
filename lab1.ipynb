{
 "cells": [
  {
   "cell_type": "code",
   "execution_count": 6,
   "id": "aacf044b",
   "metadata": {},
   "outputs": [],
   "source": [
    "import polars as pl\n",
    "import numpy as np"
   ]
  },
  {
   "cell_type": "code",
   "execution_count": 7,
   "id": "dfb1bad5",
   "metadata": {},
   "outputs": [],
   "source": [
    "rentals = pl.read_csv(\"dataset/synthetic_rentals.csv\")\n",
    "stations = pl.read_csv(\"dataset/synthetic_stations.csv\")\n",
    "users = pl.read_csv(\"dataset/synthetic_users.csv\")\n"
   ]
  },
  {
   "cell_type": "markdown",
   "id": "979ba66d",
   "metadata": {},
   "source": [
    "# data preprocessing "
   ]
  },
  {
   "cell_type": "code",
   "execution_count": 11,
   "id": "960e47e1",
   "metadata": {},
   "outputs": [
    {
     "data": {
      "text/html": [
       "<div><style>\n",
       ".dataframe > thead > tr,\n",
       ".dataframe > tbody > tr {\n",
       "  text-align: right;\n",
       "  white-space: pre-wrap;\n",
       "}\n",
       "</style>\n",
       "<small>shape: (5, 6)</small><table border=\"1\" class=\"dataframe\"><thead><tr><th>user_id</th><th>user_type</th><th>registration_date</th><th>preferred_hours</th><th>preferred_days</th><th>avg_rentals_per_month</th></tr><tr><td>str</td><td>str</td><td>str</td><td>str</td><td>str</td><td>i64</td></tr></thead><tbody><tr><td>&quot;U0497&quot;</td><td>&quot;periodic&quot;</td><td>&quot;2022-07-13&quot;</td><td>&quot;7,8,17,18,19&quot;</td><td>&quot;weekday&quot;</td><td>8</td></tr><tr><td>&quot;U0452&quot;</td><td>&quot;periodic&quot;</td><td>&quot;2023-03-03&quot;</td><td>&quot;10,11,12,13,14,15,16&quot;</td><td>&quot;weekend&quot;</td><td>10</td></tr><tr><td>&quot;U0616&quot;</td><td>&quot;rare&quot;</td><td>&quot;2024-11-30&quot;</td><td>&quot;7,8,9&quot;</td><td>&quot;weekday&quot;</td><td>4</td></tr><tr><td>&quot;U0174&quot;</td><td>&quot;periodic&quot;</td><td>&quot;2024-01-13&quot;</td><td>&quot;10,11,12,13,14,15,16&quot;</td><td>&quot;weekend&quot;</td><td>10</td></tr><tr><td>&quot;U0482&quot;</td><td>&quot;periodic&quot;</td><td>&quot;2024-01-24&quot;</td><td>&quot;7,8,17,18,19&quot;</td><td>&quot;weekend&quot;</td><td>5</td></tr></tbody></table></div>"
      ],
      "text/plain": [
       "shape: (5, 6)\n",
       "┌─────────┬───────────┬───────────────────┬───────────────────┬────────────────┬───────────────────┐\n",
       "│ user_id ┆ user_type ┆ registration_date ┆ preferred_hours   ┆ preferred_days ┆ avg_rentals_per_m │\n",
       "│ ---     ┆ ---       ┆ ---               ┆ ---               ┆ ---            ┆ onth              │\n",
       "│ str     ┆ str       ┆ str               ┆ str               ┆ str            ┆ ---               │\n",
       "│         ┆           ┆                   ┆                   ┆                ┆ i64               │\n",
       "╞═════════╪═══════════╪═══════════════════╪═══════════════════╪════════════════╪═══════════════════╡\n",
       "│ U0497   ┆ periodic  ┆ 2022-07-13        ┆ 7,8,17,18,19      ┆ weekday        ┆ 8                 │\n",
       "│ U0452   ┆ periodic  ┆ 2023-03-03        ┆ 10,11,12,13,14,15 ┆ weekend        ┆ 10                │\n",
       "│         ┆           ┆                   ┆ ,16               ┆                ┆                   │\n",
       "│ U0616   ┆ rare      ┆ 2024-11-30        ┆ 7,8,9             ┆ weekday        ┆ 4                 │\n",
       "│ U0174   ┆ periodic  ┆ 2024-01-13        ┆ 10,11,12,13,14,15 ┆ weekend        ┆ 10                │\n",
       "│         ┆           ┆                   ┆ ,16               ┆                ┆                   │\n",
       "│ U0482   ┆ periodic  ┆ 2024-01-24        ┆ 7,8,17,18,19      ┆ weekend        ┆ 5                 │\n",
       "└─────────┴───────────┴───────────────────┴───────────────────┴────────────────┴───────────────────┘"
      ]
     },
     "metadata": {},
     "output_type": "display_data"
    },
    {
     "data": {
      "text/html": [
       "<div><style>\n",
       ".dataframe > thead > tr,\n",
       ".dataframe > tbody > tr {\n",
       "  text-align: right;\n",
       "  white-space: pre-wrap;\n",
       "}\n",
       "</style>\n",
       "<small>shape: (5, 7)</small><table border=\"1\" class=\"dataframe\"><thead><tr><th>rental_id</th><th>date</th><th>hour</th><th>minute</th><th>user_id</th><th>station_id</th><th>duration_minutes</th></tr><tr><td>str</td><td>str</td><td>i64</td><td>i64</td><td>str</td><td>str</td><td>i64</td></tr></thead><tbody><tr><td>&quot;R034702&quot;</td><td>&quot;2017-01-27&quot;</td><td>9</td><td>54</td><td>&quot;U0434&quot;</td><td>&quot;S057&quot;</td><td>30</td></tr><tr><td>&quot;R036190&quot;</td><td>&quot;2017-01-28&quot;</td><td>10</td><td>14</td><td>&quot;U0494&quot;</td><td>&quot;S082&quot;</td><td>111</td></tr><tr><td>&quot;R036172&quot;</td><td>&quot;2017-01-28&quot;</td><td>10</td><td>49</td><td>&quot;U0524&quot;</td><td>&quot;S029&quot;</td><td>65</td></tr><tr><td>&quot;R035671&quot;</td><td>&quot;2017-01-28&quot;</td><td>2</td><td>8</td><td>&quot;U0458&quot;</td><td>&quot;S022&quot;</td><td>44</td></tr><tr><td>&quot;R016881&quot;</td><td>&quot;2017-01-13&quot;</td><td>12</td><td>0</td><td>&quot;U0567&quot;</td><td>&quot;S008&quot;</td><td>48</td></tr></tbody></table></div>"
      ],
      "text/plain": [
       "shape: (5, 7)\n",
       "┌───────────┬────────────┬──────┬────────┬─────────┬────────────┬──────────────────┐\n",
       "│ rental_id ┆ date       ┆ hour ┆ minute ┆ user_id ┆ station_id ┆ duration_minutes │\n",
       "│ ---       ┆ ---        ┆ ---  ┆ ---    ┆ ---     ┆ ---        ┆ ---              │\n",
       "│ str       ┆ str        ┆ i64  ┆ i64    ┆ str     ┆ str        ┆ i64              │\n",
       "╞═══════════╪════════════╪══════╪════════╪═════════╪════════════╪══════════════════╡\n",
       "│ R034702   ┆ 2017-01-27 ┆ 9    ┆ 54     ┆ U0434   ┆ S057       ┆ 30               │\n",
       "│ R036190   ┆ 2017-01-28 ┆ 10   ┆ 14     ┆ U0494   ┆ S082       ┆ 111              │\n",
       "│ R036172   ┆ 2017-01-28 ┆ 10   ┆ 49     ┆ U0524   ┆ S029       ┆ 65               │\n",
       "│ R035671   ┆ 2017-01-28 ┆ 2    ┆ 8      ┆ U0458   ┆ S022       ┆ 44               │\n",
       "│ R016881   ┆ 2017-01-13 ┆ 12   ┆ 0      ┆ U0567   ┆ S008       ┆ 48               │\n",
       "└───────────┴────────────┴──────┴────────┴─────────┴────────────┴──────────────────┘"
      ]
     },
     "metadata": {},
     "output_type": "display_data"
    },
    {
     "data": {
      "text/html": [
       "<div><style>\n",
       ".dataframe > thead > tr,\n",
       ".dataframe > tbody > tr {\n",
       "  text-align: right;\n",
       "  white-space: pre-wrap;\n",
       "}\n",
       "</style>\n",
       "<small>shape: (5, 10)</small><table border=\"1\" class=\"dataframe\"><thead><tr><th>station_id</th><th>station_name</th><th>district</th><th>latitude</th><th>longitude</th><th>location_type</th><th>capacity</th><th>peak_hours</th><th>peak_days</th><th>usage_intensity</th></tr><tr><td>str</td><td>str</td><td>str</td><td>f64</td><td>f64</td><td>str</td><td>i64</td><td>str</td><td>str</td><td>f64</td></tr></thead><tbody><tr><td>&quot;S086&quot;</td><td>&quot;Yeongdeungpo Station 8&quot;</td><td>&quot;Yeongdeungpo&quot;</td><td>37.474077</td><td>127.068755</td><td>&quot;transit&quot;</td><td>56</td><td>&quot;7,8,9,17,18,19,20&quot;</td><td>&quot;weekday&quot;</td><td>0.88</td></tr><tr><td>&quot;S010&quot;</td><td>&quot;Dongdaemun Station 10&quot;</td><td>&quot;Dongdaemun&quot;</td><td>37.65258</td><td>126.803168</td><td>&quot;mixed&quot;</td><td>32</td><td>&quot;8,9,12,13,17,18,19&quot;</td><td>&quot;all&quot;</td><td>0.4</td></tr><tr><td>&quot;S037&quot;</td><td>&quot;Seocho Station 9&quot;</td><td>&quot;Seocho&quot;</td><td>37.55347</td><td>127.127222</td><td>&quot;recreation&quot;</td><td>32</td><td>&quot;10,11,12,13,14,15,16,17&quot;</td><td>&quot;weekend&quot;</td><td>0.76</td></tr><tr><td>&quot;S011&quot;</td><td>&quot;Eunpyeong Station 6&quot;</td><td>&quot;Eunpyeong&quot;</td><td>37.453695</td><td>126.809878</td><td>&quot;recreation&quot;</td><td>28</td><td>&quot;10,11,12,13,14,15,16,17&quot;</td><td>&quot;weekend&quot;</td><td>0.66</td></tr><tr><td>&quot;S066&quot;</td><td>&quot;Mapo Station 2&quot;</td><td>&quot;Mapo&quot;</td><td>37.464055</td><td>127.167005</td><td>&quot;recreation&quot;</td><td>40</td><td>&quot;10,11,12,13,14,15,16,17&quot;</td><td>&quot;weekend&quot;</td><td>0.64</td></tr></tbody></table></div>"
      ],
      "text/plain": [
       "shape: (5, 10)\n",
       "┌───────────┬───────────┬───────────┬───────────┬───┬──────────┬───────────┬───────────┬───────────┐\n",
       "│ station_i ┆ station_n ┆ district  ┆ latitude  ┆ … ┆ capacity ┆ peak_hour ┆ peak_days ┆ usage_int │\n",
       "│ d         ┆ ame       ┆ ---       ┆ ---       ┆   ┆ ---      ┆ s         ┆ ---       ┆ ensity    │\n",
       "│ ---       ┆ ---       ┆ str       ┆ f64       ┆   ┆ i64      ┆ ---       ┆ str       ┆ ---       │\n",
       "│ str       ┆ str       ┆           ┆           ┆   ┆          ┆ str       ┆           ┆ f64       │\n",
       "╞═══════════╪═══════════╪═══════════╪═══════════╪═══╪══════════╪═══════════╪═══════════╪═══════════╡\n",
       "│ S086      ┆ Yeongdeun ┆ Yeongdeun ┆ 37.474077 ┆ … ┆ 56       ┆ 7,8,9,17, ┆ weekday   ┆ 0.88      │\n",
       "│           ┆ gpo       ┆ gpo       ┆           ┆   ┆          ┆ 18,19,20  ┆           ┆           │\n",
       "│           ┆ Station 8 ┆           ┆           ┆   ┆          ┆           ┆           ┆           │\n",
       "│ S010      ┆ Dongdaemu ┆ Dongdaemu ┆ 37.65258  ┆ … ┆ 32       ┆ 8,9,12,13 ┆ all       ┆ 0.4       │\n",
       "│           ┆ n Station ┆ n         ┆           ┆   ┆          ┆ ,17,18,19 ┆           ┆           │\n",
       "│           ┆ 10        ┆           ┆           ┆   ┆          ┆           ┆           ┆           │\n",
       "│ S037      ┆ Seocho    ┆ Seocho    ┆ 37.55347  ┆ … ┆ 32       ┆ 10,11,12, ┆ weekend   ┆ 0.76      │\n",
       "│           ┆ Station 9 ┆           ┆           ┆   ┆          ┆ 13,14,15, ┆           ┆           │\n",
       "│           ┆           ┆           ┆           ┆   ┆          ┆ 16,17     ┆           ┆           │\n",
       "│ S011      ┆ Eunpyeong ┆ Eunpyeong ┆ 37.453695 ┆ … ┆ 28       ┆ 10,11,12, ┆ weekend   ┆ 0.66      │\n",
       "│           ┆ Station 6 ┆           ┆           ┆   ┆          ┆ 13,14,15, ┆           ┆           │\n",
       "│           ┆           ┆           ┆           ┆   ┆          ┆ 16,17     ┆           ┆           │\n",
       "│ S066      ┆ Mapo      ┆ Mapo      ┆ 37.464055 ┆ … ┆ 40       ┆ 10,11,12, ┆ weekend   ┆ 0.64      │\n",
       "│           ┆ Station 2 ┆           ┆           ┆   ┆          ┆ 13,14,15, ┆           ┆           │\n",
       "│           ┆           ┆           ┆           ┆   ┆          ┆ 16,17     ┆           ┆           │\n",
       "└───────────┴───────────┴───────────┴───────────┴───┴──────────┴───────────┴───────────┴───────────┘"
      ]
     },
     "metadata": {},
     "output_type": "display_data"
    }
   ],
   "source": [
    "display(users.sample(5))\n",
    "\n",
    "display(rentals.sample(5))\n",
    "\n",
    "display(stations.sample(5))\n"
   ]
  },
  {
   "cell_type": "code",
   "execution_count": 16,
   "id": "b0b55dea",
   "metadata": {},
   "outputs": [
    {
     "data": {
      "text/html": [
       "<div><style>\n",
       ".dataframe > thead > tr,\n",
       ".dataframe > tbody > tr {\n",
       "  text-align: right;\n",
       "  white-space: pre-wrap;\n",
       "}\n",
       "</style>\n",
       "<small>shape: (39_705, 21)</small><table border=\"1\" class=\"dataframe\"><thead><tr><th>rental_id</th><th>date</th><th>hour</th><th>minute</th><th>user_id</th><th>station_id</th><th>duration_minutes</th><th>station_name</th><th>district</th><th>latitude</th><th>longitude</th><th>location_type</th><th>capacity</th><th>peak_hours</th><th>peak_days</th><th>usage_intensity</th><th>user_type</th><th>registration_date</th><th>preferred_hours</th><th>preferred_days</th><th>avg_rentals_per_month</th></tr><tr><td>str</td><td>str</td><td>i64</td><td>i64</td><td>str</td><td>str</td><td>i64</td><td>str</td><td>str</td><td>f64</td><td>f64</td><td>str</td><td>i64</td><td>str</td><td>str</td><td>f64</td><td>str</td><td>str</td><td>str</td><td>str</td><td>i64</td></tr></thead><tbody><tr><td>&quot;R000000&quot;</td><td>&quot;2017-01-01&quot;</td><td>0</td><td>45</td><td>&quot;U0010&quot;</td><td>&quot;S034&quot;</td><td>28</td><td>&quot;Jongno Station 2&quot;</td><td>&quot;Jongno&quot;</td><td>37.548081</td><td>127.089129</td><td>&quot;business&quot;</td><td>38</td><td>&quot;8,9,17,18,19&quot;</td><td>&quot;weekday&quot;</td><td>0.57</td><td>&quot;rare&quot;</td><td>&quot;2022-05-12&quot;</td><td>&quot;10,11,12,13,14&quot;</td><td>&quot;weekend&quot;</td><td>3</td></tr><tr><td>&quot;R000001&quot;</td><td>&quot;2017-01-01&quot;</td><td>0</td><td>17</td><td>&quot;U0824&quot;</td><td>&quot;S031&quot;</td><td>31</td><td>&quot;Seocho Station 2&quot;</td><td>&quot;Seocho&quot;</td><td>37.429762</td><td>127.110368</td><td>&quot;residential&quot;</td><td>19</td><td>&quot;7,8,18,19,20&quot;</td><td>&quot;all&quot;</td><td>0.68</td><td>&quot;periodic&quot;</td><td>&quot;2024-10-08&quot;</td><td>&quot;7,8,17,18,19&quot;</td><td>&quot;weekday&quot;</td><td>11</td></tr><tr><td>&quot;R000002&quot;</td><td>&quot;2017-01-01&quot;</td><td>0</td><td>38</td><td>&quot;U0954&quot;</td><td>&quot;S035&quot;</td><td>45</td><td>&quot;Seodaemun Station 5&quot;</td><td>&quot;Seodaemun&quot;</td><td>37.529528</td><td>126.872021</td><td>&quot;transit&quot;</td><td>38</td><td>&quot;7,8,9,17,18,19,20&quot;</td><td>&quot;weekday&quot;</td><td>0.77</td><td>&quot;rare&quot;</td><td>&quot;2024-05-26&quot;</td><td>&quot;7,8,9&quot;</td><td>&quot;weekend&quot;</td><td>2</td></tr><tr><td>&quot;R000003&quot;</td><td>&quot;2017-01-01&quot;</td><td>0</td><td>41</td><td>&quot;U0047&quot;</td><td>&quot;S061&quot;</td><td>55</td><td>&quot;Mapo Station 5&quot;</td><td>&quot;Mapo&quot;</td><td>37.662058</td><td>126.992142</td><td>&quot;residential&quot;</td><td>19</td><td>&quot;7,8,18,19,20&quot;</td><td>&quot;all&quot;</td><td>0.67</td><td>&quot;periodic&quot;</td><td>&quot;2023-06-17&quot;</td><td>&quot;7,8,17,18,19&quot;</td><td>&quot;weekend&quot;</td><td>11</td></tr><tr><td>&quot;R000004&quot;</td><td>&quot;2017-01-01&quot;</td><td>0</td><td>25</td><td>&quot;U0908&quot;</td><td>&quot;S079&quot;</td><td>21</td><td>&quot;Gangnam Station 10&quot;</td><td>&quot;Gangnam&quot;</td><td>37.649585</td><td>126.953299</td><td>&quot;business&quot;</td><td>21</td><td>&quot;8,9,17,18,19&quot;</td><td>&quot;weekday&quot;</td><td>0.87</td><td>&quot;periodic&quot;</td><td>&quot;2022-06-10&quot;</td><td>&quot;10,11,12,13,14,15,16&quot;</td><td>&quot;weekend&quot;</td><td>9</td></tr><tr><td>&hellip;</td><td>&hellip;</td><td>&hellip;</td><td>&hellip;</td><td>&hellip;</td><td>&hellip;</td><td>&hellip;</td><td>&hellip;</td><td>&hellip;</td><td>&hellip;</td><td>&hellip;</td><td>&hellip;</td><td>&hellip;</td><td>&hellip;</td><td>&hellip;</td><td>&hellip;</td><td>&hellip;</td><td>&hellip;</td><td>&hellip;</td><td>&hellip;</td><td>&hellip;</td></tr><tr><td>&quot;R039700&quot;</td><td>&quot;2017-01-31&quot;</td><td>0</td><td>52</td><td>&quot;U0450&quot;</td><td>&quot;S028&quot;</td><td>43</td><td>&quot;Eunpyeong Station 5&quot;</td><td>&quot;Eunpyeong&quot;</td><td>37.549747</td><td>126.820877</td><td>&quot;residential&quot;</td><td>28</td><td>&quot;7,8,18,19,20&quot;</td><td>&quot;all&quot;</td><td>0.36</td><td>&quot;frequent&quot;</td><td>&quot;2024-07-25&quot;</td><td>&quot;7,8,9,12,13,17,18,19&quot;</td><td>&quot;weekday&quot;</td><td>31</td></tr><tr><td>&quot;R039701&quot;</td><td>&quot;2017-01-31&quot;</td><td>0</td><td>58</td><td>&quot;U0335&quot;</td><td>&quot;S098&quot;</td><td>47</td><td>&quot;Yongsan Station 8&quot;</td><td>&quot;Yongsan&quot;</td><td>37.655234</td><td>126.86414</td><td>&quot;mixed&quot;</td><td>34</td><td>&quot;8,9,12,13,17,18,19&quot;</td><td>&quot;all&quot;</td><td>0.42</td><td>&quot;frequent&quot;</td><td>&quot;2024-03-01&quot;</td><td>&quot;7,8,9,17,18,19&quot;</td><td>&quot;weekday&quot;</td><td>35</td></tr><tr><td>&quot;R039702&quot;</td><td>&quot;2017-01-31&quot;</td><td>0</td><td>0</td><td>&quot;U0628&quot;</td><td>&quot;S040&quot;</td><td>52</td><td>&quot;Gangnam Station 2&quot;</td><td>&quot;Gangnam&quot;</td><td>37.429918</td><td>127.072508</td><td>&quot;transit&quot;</td><td>41</td><td>&quot;7,8,9,17,18,19,20&quot;</td><td>&quot;weekday&quot;</td><td>0.74</td><td>&quot;rare&quot;</td><td>&quot;2024-06-17&quot;</td><td>&quot;7,8,9&quot;</td><td>&quot;weekend&quot;</td><td>4</td></tr><tr><td>&quot;R039703&quot;</td><td>&quot;2017-01-31&quot;</td><td>0</td><td>13</td><td>&quot;U0220&quot;</td><td>&quot;S078&quot;</td><td>34</td><td>&quot;Yeongdeungpo Station 3&quot;</td><td>&quot;Yeongdeungpo&quot;</td><td>37.421441</td><td>127.016106</td><td>&quot;transit&quot;</td><td>52</td><td>&quot;7,8,9,17,18,19,20&quot;</td><td>&quot;weekday&quot;</td><td>0.7</td><td>&quot;rare&quot;</td><td>&quot;2024-11-17&quot;</td><td>&quot;7,8,9&quot;</td><td>&quot;weekend&quot;</td><td>4</td></tr><tr><td>&quot;R039704&quot;</td><td>&quot;2017-01-31&quot;</td><td>0</td><td>31</td><td>&quot;U0146&quot;</td><td>&quot;S079&quot;</td><td>55</td><td>&quot;Gangnam Station 10&quot;</td><td>&quot;Gangnam&quot;</td><td>37.649585</td><td>126.953299</td><td>&quot;business&quot;</td><td>21</td><td>&quot;8,9,17,18,19&quot;</td><td>&quot;weekday&quot;</td><td>0.87</td><td>&quot;frequent&quot;</td><td>&quot;2022-11-25&quot;</td><td>&quot;7,8,9,17,18,19&quot;</td><td>&quot;weekday&quot;</td><td>24</td></tr></tbody></table></div>"
      ],
      "text/plain": [
       "shape: (39_705, 21)\n",
       "┌───────────┬────────────┬──────┬────────┬───┬─────────────┬─────────────┬────────────┬────────────┐\n",
       "│ rental_id ┆ date       ┆ hour ┆ minute ┆ … ┆ registratio ┆ preferred_h ┆ preferred_ ┆ avg_rental │\n",
       "│ ---       ┆ ---        ┆ ---  ┆ ---    ┆   ┆ n_date      ┆ ours        ┆ days       ┆ s_per_mont │\n",
       "│ str       ┆ str        ┆ i64  ┆ i64    ┆   ┆ ---         ┆ ---         ┆ ---        ┆ h          │\n",
       "│           ┆            ┆      ┆        ┆   ┆ str         ┆ str         ┆ str        ┆ ---        │\n",
       "│           ┆            ┆      ┆        ┆   ┆             ┆             ┆            ┆ i64        │\n",
       "╞═══════════╪════════════╪══════╪════════╪═══╪═════════════╪═════════════╪════════════╪════════════╡\n",
       "│ R000000   ┆ 2017-01-01 ┆ 0    ┆ 45     ┆ … ┆ 2022-05-12  ┆ 10,11,12,13 ┆ weekend    ┆ 3          │\n",
       "│           ┆            ┆      ┆        ┆   ┆             ┆ ,14         ┆            ┆            │\n",
       "│ R000001   ┆ 2017-01-01 ┆ 0    ┆ 17     ┆ … ┆ 2024-10-08  ┆ 7,8,17,18,1 ┆ weekday    ┆ 11         │\n",
       "│           ┆            ┆      ┆        ┆   ┆             ┆ 9           ┆            ┆            │\n",
       "│ R000002   ┆ 2017-01-01 ┆ 0    ┆ 38     ┆ … ┆ 2024-05-26  ┆ 7,8,9       ┆ weekend    ┆ 2          │\n",
       "│ R000003   ┆ 2017-01-01 ┆ 0    ┆ 41     ┆ … ┆ 2023-06-17  ┆ 7,8,17,18,1 ┆ weekend    ┆ 11         │\n",
       "│           ┆            ┆      ┆        ┆   ┆             ┆ 9           ┆            ┆            │\n",
       "│ R000004   ┆ 2017-01-01 ┆ 0    ┆ 25     ┆ … ┆ 2022-06-10  ┆ 10,11,12,13 ┆ weekend    ┆ 9          │\n",
       "│           ┆            ┆      ┆        ┆   ┆             ┆ ,14,15,16   ┆            ┆            │\n",
       "│ …         ┆ …          ┆ …    ┆ …      ┆ … ┆ …           ┆ …           ┆ …          ┆ …          │\n",
       "│ R039700   ┆ 2017-01-31 ┆ 0    ┆ 52     ┆ … ┆ 2024-07-25  ┆ 7,8,9,12,13 ┆ weekday    ┆ 31         │\n",
       "│           ┆            ┆      ┆        ┆   ┆             ┆ ,17,18,19   ┆            ┆            │\n",
       "│ R039701   ┆ 2017-01-31 ┆ 0    ┆ 58     ┆ … ┆ 2024-03-01  ┆ 7,8,9,17,18 ┆ weekday    ┆ 35         │\n",
       "│           ┆            ┆      ┆        ┆   ┆             ┆ ,19         ┆            ┆            │\n",
       "│ R039702   ┆ 2017-01-31 ┆ 0    ┆ 0      ┆ … ┆ 2024-06-17  ┆ 7,8,9       ┆ weekend    ┆ 4          │\n",
       "│ R039703   ┆ 2017-01-31 ┆ 0    ┆ 13     ┆ … ┆ 2024-11-17  ┆ 7,8,9       ┆ weekend    ┆ 4          │\n",
       "│ R039704   ┆ 2017-01-31 ┆ 0    ┆ 31     ┆ … ┆ 2022-11-25  ┆ 7,8,9,17,18 ┆ weekday    ┆ 24         │\n",
       "│           ┆            ┆      ┆        ┆   ┆             ┆ ,19         ┆            ┆            │\n",
       "└───────────┴────────────┴──────┴────────┴───┴─────────────┴─────────────┴────────────┴────────────┘"
      ]
     },
     "execution_count": 16,
     "metadata": {},
     "output_type": "execute_result"
    }
   ],
   "source": [
    "rentals_stations_df = rentals.join(stations, on=\"station_id\", how=\"left\")  \n",
    "unified_df = rentals_stations_df.join(users, on=\"user_id\", how=\"left\")\n",
    "\n",
    "unified_df"
   ]
  },
  {
   "cell_type": "code",
   "execution_count": 17,
   "id": "2329c52f",
   "metadata": {},
   "outputs": [
    {
     "data": {
      "text/html": [
       "<div><style>\n",
       ".dataframe > thead > tr,\n",
       ".dataframe > tbody > tr {\n",
       "  text-align: right;\n",
       "  white-space: pre-wrap;\n",
       "}\n",
       "</style>\n",
       "<small>shape: (9, 22)</small><table border=\"1\" class=\"dataframe\"><thead><tr><th>statistic</th><th>rental_id</th><th>date</th><th>hour</th><th>minute</th><th>user_id</th><th>station_id</th><th>duration_minutes</th><th>station_name</th><th>district</th><th>latitude</th><th>longitude</th><th>location_type</th><th>capacity</th><th>peak_hours</th><th>peak_days</th><th>usage_intensity</th><th>user_type</th><th>registration_date</th><th>preferred_hours</th><th>preferred_days</th><th>avg_rentals_per_month</th></tr><tr><td>str</td><td>str</td><td>str</td><td>f64</td><td>f64</td><td>str</td><td>str</td><td>f64</td><td>str</td><td>str</td><td>f64</td><td>f64</td><td>str</td><td>f64</td><td>str</td><td>str</td><td>f64</td><td>str</td><td>str</td><td>str</td><td>str</td><td>f64</td></tr></thead><tbody><tr><td>&quot;count&quot;</td><td>&quot;39705&quot;</td><td>&quot;39705&quot;</td><td>39705.0</td><td>39705.0</td><td>&quot;39705&quot;</td><td>&quot;39705&quot;</td><td>39705.0</td><td>&quot;39705&quot;</td><td>&quot;39705&quot;</td><td>39705.0</td><td>39705.0</td><td>&quot;39705&quot;</td><td>39705.0</td><td>&quot;39705&quot;</td><td>&quot;39705&quot;</td><td>39705.0</td><td>&quot;39705&quot;</td><td>&quot;39705&quot;</td><td>&quot;39705&quot;</td><td>&quot;39705&quot;</td><td>39705.0</td></tr><tr><td>&quot;null_count&quot;</td><td>&quot;0&quot;</td><td>&quot;0&quot;</td><td>0.0</td><td>0.0</td><td>&quot;0&quot;</td><td>&quot;0&quot;</td><td>0.0</td><td>&quot;0&quot;</td><td>&quot;0&quot;</td><td>0.0</td><td>0.0</td><td>&quot;0&quot;</td><td>0.0</td><td>&quot;0&quot;</td><td>&quot;0&quot;</td><td>0.0</td><td>&quot;0&quot;</td><td>&quot;0&quot;</td><td>&quot;0&quot;</td><td>&quot;0&quot;</td><td>0.0</td></tr><tr><td>&quot;mean&quot;</td><td>null</td><td>null</td><td>11.429165</td><td>29.380909</td><td>null</td><td>null</td><td>35.656315</td><td>null</td><td>null</td><td>37.558014</td><td>126.986951</td><td>null</td><td>31.907191</td><td>null</td><td>null</td><td>0.624896</td><td>null</td><td>null</td><td>null</td><td>null</td><td>11.660773</td></tr><tr><td>&quot;std&quot;</td><td>null</td><td>null</td><td>6.866742</td><td>17.333237</td><td>null</td><td>null</td><td>18.916603</td><td>null</td><td>null</td><td>0.089335</td><td>0.120044</td><td>null</td><td>10.204716</td><td>null</td><td>null</td><td>0.160988</td><td>null</td><td>null</td><td>null</td><td>null</td><td>10.399348</td></tr><tr><td>&quot;min&quot;</td><td>&quot;R000000&quot;</td><td>&quot;2017-01-01&quot;</td><td>0.0</td><td>0.0</td><td>&quot;U0001&quot;</td><td>&quot;S001&quot;</td><td>10.0</td><td>&quot;Dongdaemun Station 1&quot;</td><td>&quot;Dongdaemun&quot;</td><td>37.420314</td><td>126.780412</td><td>&quot;business&quot;</td><td>15.0</td><td>&quot;10,11,12,13,14,15,16,17&quot;</td><td>&quot;all&quot;</td><td>0.36</td><td>&quot;frequent&quot;</td><td>&quot;2022-03-08&quot;</td><td>&quot;10,11,12,13,14&quot;</td><td>&quot;all&quot;</td><td>1.0</td></tr><tr><td>&quot;25%&quot;</td><td>null</td><td>null</td><td>6.0</td><td>14.0</td><td>null</td><td>null</td><td>21.0</td><td>null</td><td>null</td><td>37.480571</td><td>126.870216</td><td>null</td><td>24.0</td><td>null</td><td>null</td><td>0.5</td><td>null</td><td>null</td><td>null</td><td>null</td><td>4.0</td></tr><tr><td>&quot;50%&quot;</td><td>null</td><td>null</td><td>11.0</td><td>29.0</td><td>null</td><td>null</td><td>31.0</td><td>null</td><td>null</td><td>37.557532</td><td>126.997293</td><td>null</td><td>32.0</td><td>null</td><td>null</td><td>0.61</td><td>null</td><td>null</td><td>null</td><td>null</td><td>8.0</td></tr><tr><td>&quot;75%&quot;</td><td>null</td><td>null</td><td>17.0</td><td>44.0</td><td>null</td><td>null</td><td>47.0</td><td>null</td><td>null</td><td>37.651338</td><td>127.088394</td><td>null</td><td>38.0</td><td>null</td><td>null</td><td>0.75</td><td>null</td><td>null</td><td>null</td><td>null</td><td>15.0</td></tr><tr><td>&quot;max&quot;</td><td>&quot;R039704&quot;</td><td>&quot;2017-01-31&quot;</td><td>23.0</td><td>59.0</td><td>&quot;U1000&quot;</td><td>&quot;S100&quot;</td><td>120.0</td><td>&quot;Yongsan Station 9&quot;</td><td>&quot;Yongsan&quot;</td><td>37.698974</td><td>127.176059</td><td>&quot;transit&quot;</td><td>59.0</td><td>&quot;8,9,17,18,19&quot;</td><td>&quot;weekend&quot;</td><td>0.99</td><td>&quot;rare&quot;</td><td>&quot;2025-03-05&quot;</td><td>&quot;9,10,11,12,13,14,15,16,17,18,1…</td><td>&quot;weekend&quot;</td><td>40.0</td></tr></tbody></table></div>"
      ],
      "text/plain": [
       "shape: (9, 22)\n",
       "┌───────────┬───────────┬───────────┬───────────┬───┬───────────┬───────────┬───────────┬──────────┐\n",
       "│ statistic ┆ rental_id ┆ date      ┆ hour      ┆ … ┆ registrat ┆ preferred ┆ preferred ┆ avg_rent │\n",
       "│ ---       ┆ ---       ┆ ---       ┆ ---       ┆   ┆ ion_date  ┆ _hours    ┆ _days     ┆ als_per_ │\n",
       "│ str       ┆ str       ┆ str       ┆ f64       ┆   ┆ ---       ┆ ---       ┆ ---       ┆ month    │\n",
       "│           ┆           ┆           ┆           ┆   ┆ str       ┆ str       ┆ str       ┆ ---      │\n",
       "│           ┆           ┆           ┆           ┆   ┆           ┆           ┆           ┆ f64      │\n",
       "╞═══════════╪═══════════╪═══════════╪═══════════╪═══╪═══════════╪═══════════╪═══════════╪══════════╡\n",
       "│ count     ┆ 39705     ┆ 39705     ┆ 39705.0   ┆ … ┆ 39705     ┆ 39705     ┆ 39705     ┆ 39705.0  │\n",
       "│ null_coun ┆ 0         ┆ 0         ┆ 0.0       ┆ … ┆ 0         ┆ 0         ┆ 0         ┆ 0.0      │\n",
       "│ t         ┆           ┆           ┆           ┆   ┆           ┆           ┆           ┆          │\n",
       "│ mean      ┆ null      ┆ null      ┆ 11.429165 ┆ … ┆ null      ┆ null      ┆ null      ┆ 11.66077 │\n",
       "│           ┆           ┆           ┆           ┆   ┆           ┆           ┆           ┆ 3        │\n",
       "│ std       ┆ null      ┆ null      ┆ 6.866742  ┆ … ┆ null      ┆ null      ┆ null      ┆ 10.39934 │\n",
       "│           ┆           ┆           ┆           ┆   ┆           ┆           ┆           ┆ 8        │\n",
       "│ min       ┆ R000000   ┆ 2017-01-0 ┆ 0.0       ┆ … ┆ 2022-03-0 ┆ 10,11,12, ┆ all       ┆ 1.0      │\n",
       "│           ┆           ┆ 1         ┆           ┆   ┆ 8         ┆ 13,14     ┆           ┆          │\n",
       "│ 25%       ┆ null      ┆ null      ┆ 6.0       ┆ … ┆ null      ┆ null      ┆ null      ┆ 4.0      │\n",
       "│ 50%       ┆ null      ┆ null      ┆ 11.0      ┆ … ┆ null      ┆ null      ┆ null      ┆ 8.0      │\n",
       "│ 75%       ┆ null      ┆ null      ┆ 17.0      ┆ … ┆ null      ┆ null      ┆ null      ┆ 15.0     │\n",
       "│ max       ┆ R039704   ┆ 2017-01-3 ┆ 23.0      ┆ … ┆ 2025-03-0 ┆ 9,10,11,1 ┆ weekend   ┆ 40.0     │\n",
       "│           ┆           ┆ 1         ┆           ┆   ┆ 5         ┆ 2,13,14,1 ┆           ┆          │\n",
       "│           ┆           ┆           ┆           ┆   ┆           ┆ 5,16,17,1 ┆           ┆          │\n",
       "│           ┆           ┆           ┆           ┆   ┆           ┆ 8,1…      ┆           ┆          │\n",
       "└───────────┴───────────┴───────────┴───────────┴───┴───────────┴───────────┴───────────┴──────────┘"
      ]
     },
     "execution_count": 17,
     "metadata": {},
     "output_type": "execute_result"
    }
   ],
   "source": [
    "unified_df.describe()"
   ]
  },
  {
   "cell_type": "markdown",
   "id": "f03c373a",
   "metadata": {},
   "source": [
    "### Tак как если мы заменим категорилаьные числа на 0 1 2 3 4, то у нас появится некий порядок в данных, в категориальных признаках такого быть не должно, поэтому можно добавить колонки типа is_sunday, is_saturday и т.д если их не больше 20 условно (мы увеличим датасет, но там всего 40_000 строк, поэтому на работу не повлияет)"
   ]
  },
  {
   "cell_type": "markdown",
   "id": "c5adb67a",
   "metadata": {},
   "source": [
    "Загрузите набор данных о прокате велосипедов в Сеуле и исследуйте\n",
    "его структуру.\n",
    "\n",
    "Выполните предварительную обработку данных (например, удалите\n",
    "пропущенные значения или преобразуйте категориальные переменные)."
   ]
  },
  {
   "cell_type": "code",
   "execution_count": 80,
   "id": "788fb30e",
   "metadata": {},
   "outputs": [],
   "source": [
    "cat_cols = [col for col in unified_df.columns if unified_df[col].unique().shape[0] < 13]"
   ]
  },
  {
   "cell_type": "markdown",
   "id": "d63ec980",
   "metadata": {},
   "source": [
    "# нет пустых значений "
   ]
  },
  {
   "cell_type": "code",
   "execution_count": 89,
   "id": "27e1dfa1",
   "metadata": {},
   "outputs": [
    {
     "data": {
      "text/html": [
       "<div><style>\n",
       ".dataframe > thead > tr,\n",
       ".dataframe > tbody > tr {\n",
       "  text-align: right;\n",
       "  white-space: pre-wrap;\n",
       "}\n",
       "</style>\n",
       "<small>shape: (1, 21)</small><table border=\"1\" class=\"dataframe\"><thead><tr><th>rental_id</th><th>date</th><th>hour</th><th>minute</th><th>user_id</th><th>station_id</th><th>duration_minutes</th><th>station_name</th><th>district</th><th>latitude</th><th>longitude</th><th>location_type</th><th>capacity</th><th>peak_hours</th><th>peak_days</th><th>usage_intensity</th><th>user_type</th><th>registration_date</th><th>preferred_hours</th><th>preferred_days</th><th>avg_rentals_per_month</th></tr><tr><td>u32</td><td>u32</td><td>u32</td><td>u32</td><td>u32</td><td>u32</td><td>u32</td><td>u32</td><td>u32</td><td>u32</td><td>u32</td><td>u32</td><td>u32</td><td>u32</td><td>u32</td><td>u32</td><td>u32</td><td>u32</td><td>u32</td><td>u32</td><td>u32</td></tr></thead><tbody><tr><td>0</td><td>0</td><td>0</td><td>0</td><td>0</td><td>0</td><td>0</td><td>0</td><td>0</td><td>0</td><td>0</td><td>0</td><td>0</td><td>0</td><td>0</td><td>0</td><td>0</td><td>0</td><td>0</td><td>0</td><td>0</td></tr></tbody></table></div>"
      ],
      "text/plain": [
       "shape: (1, 21)\n",
       "┌───────────┬──────┬──────┬────────┬───┬──────────────┬──────────────┬──────────────┬──────────────┐\n",
       "│ rental_id ┆ date ┆ hour ┆ minute ┆ … ┆ registration ┆ preferred_ho ┆ preferred_da ┆ avg_rentals_ │\n",
       "│ ---       ┆ ---  ┆ ---  ┆ ---    ┆   ┆ _date        ┆ urs          ┆ ys           ┆ per_month    │\n",
       "│ u32       ┆ u32  ┆ u32  ┆ u32    ┆   ┆ ---          ┆ ---          ┆ ---          ┆ ---          │\n",
       "│           ┆      ┆      ┆        ┆   ┆ u32          ┆ u32          ┆ u32          ┆ u32          │\n",
       "╞═══════════╪══════╪══════╪════════╪═══╪══════════════╪══════════════╪══════════════╪══════════════╡\n",
       "│ 0         ┆ 0    ┆ 0    ┆ 0      ┆ … ┆ 0            ┆ 0            ┆ 0            ┆ 0            │\n",
       "└───────────┴──────┴──────┴────────┴───┴──────────────┴──────────────┴──────────────┴──────────────┘"
      ]
     },
     "execution_count": 89,
     "metadata": {},
     "output_type": "execute_result"
    }
   ],
   "source": [
    "unified_df.null_count()"
   ]
  },
  {
   "cell_type": "code",
   "execution_count": 86,
   "id": "9db36c78",
   "metadata": {},
   "outputs": [],
   "source": [
    "def get_df_with_cat_binary_cols(cat_cols: list, df: pl.DataFrame) -> pl.DataFrame:\n",
    "      df = df.with_columns(\n",
    "          [pl.when(pl.col(cat_col) == val)\n",
    "          .then(1)\n",
    "          .otherwise(0)\n",
    "          .alias(f\"{cat_col}_{val}\") for cat_col in cat_cols for val in\n",
    "        df[cat_col].unique().to_list()]\n",
    "        )\n",
    "      return df\n",
    "\n",
    "unifield_df_with_binary_cat_cols = get_df_with_cat_binary_cols(cat_cols, df=unified_df)"
   ]
  },
  {
   "cell_type": "code",
   "execution_count": 87,
   "id": "5c7075c4",
   "metadata": {},
   "outputs": [
    {
     "data": {
      "text/html": [
       "<div><style>\n",
       ".dataframe > thead > tr,\n",
       ".dataframe > tbody > tr {\n",
       "  text-align: right;\n",
       "  white-space: pre-wrap;\n",
       "}\n",
       "</style>\n",
       "<small>shape: (39_705, 58)</small><table border=\"1\" class=\"dataframe\"><thead><tr><th>rental_id</th><th>date</th><th>hour</th><th>minute</th><th>user_id</th><th>station_id</th><th>duration_minutes</th><th>station_name</th><th>district</th><th>latitude</th><th>longitude</th><th>location_type</th><th>capacity</th><th>peak_hours</th><th>peak_days</th><th>usage_intensity</th><th>user_type</th><th>registration_date</th><th>preferred_hours</th><th>preferred_days</th><th>avg_rentals_per_month</th><th>district_Yongsan</th><th>district_Gangnam</th><th>district_Seodaemun</th><th>district_Yeongdeungpo</th><th>district_Seocho</th><th>district_Mapo</th><th>district_Dongdaemun</th><th>district_Jongno</th><th>district_Nowon</th><th>district_Eunpyeong</th><th>location_type_residential</th><th>location_type_mixed</th><th>location_type_recreation</th><th>location_type_transit</th><th>location_type_business</th><th>peak_hours_8,9,12,13,17,18,19</th><th>peak_hours_7,8,9,17,18,19,20</th><th>peak_hours_10,11,12,13,14,15,16,17</th><th>peak_hours_7,8,18,19,20</th><th>peak_hours_8,9,17,18,19</th><th>peak_days_weekday</th><th>peak_days_weekend</th><th>peak_days_all</th><th>user_type_rare</th><th>user_type_frequent</th><th>user_type_periodic</th><th>preferred_hours_7,8,17,18,19</th><th>preferred_hours_16,17,18,19,20</th><th>preferred_hours_9,10,11,12,13,14,15,16,17,18,19,20</th><th>preferred_hours_10,11,12,13,14,15,16</th><th>preferred_hours_7,8,9,17,18,19</th><th>preferred_hours_7,8,9,12,13,17,18,19</th><th>preferred_hours_10,11,12,13,14</th><th>preferred_hours_7,8,9</th><th>preferred_days_weekday</th><th>preferred_days_weekend</th><th>preferred_days_all</th></tr><tr><td>str</td><td>str</td><td>i64</td><td>i64</td><td>str</td><td>str</td><td>i64</td><td>str</td><td>str</td><td>f64</td><td>f64</td><td>str</td><td>i64</td><td>str</td><td>str</td><td>f64</td><td>str</td><td>str</td><td>str</td><td>str</td><td>i64</td><td>i32</td><td>i32</td><td>i32</td><td>i32</td><td>i32</td><td>i32</td><td>i32</td><td>i32</td><td>i32</td><td>i32</td><td>i32</td><td>i32</td><td>i32</td><td>i32</td><td>i32</td><td>i32</td><td>i32</td><td>i32</td><td>i32</td><td>i32</td><td>i32</td><td>i32</td><td>i32</td><td>i32</td><td>i32</td><td>i32</td><td>i32</td><td>i32</td><td>i32</td><td>i32</td><td>i32</td><td>i32</td><td>i32</td><td>i32</td><td>i32</td><td>i32</td><td>i32</td></tr></thead><tbody><tr><td>&quot;R000000&quot;</td><td>&quot;2017-01-01&quot;</td><td>0</td><td>45</td><td>&quot;U0010&quot;</td><td>&quot;S034&quot;</td><td>28</td><td>&quot;Jongno Station 2&quot;</td><td>&quot;Jongno&quot;</td><td>37.548081</td><td>127.089129</td><td>&quot;business&quot;</td><td>38</td><td>&quot;8,9,17,18,19&quot;</td><td>&quot;weekday&quot;</td><td>0.57</td><td>&quot;rare&quot;</td><td>&quot;2022-05-12&quot;</td><td>&quot;10,11,12,13,14&quot;</td><td>&quot;weekend&quot;</td><td>3</td><td>0</td><td>0</td><td>0</td><td>0</td><td>0</td><td>0</td><td>0</td><td>1</td><td>0</td><td>0</td><td>0</td><td>0</td><td>0</td><td>0</td><td>1</td><td>0</td><td>0</td><td>0</td><td>0</td><td>1</td><td>1</td><td>0</td><td>0</td><td>1</td><td>0</td><td>0</td><td>0</td><td>0</td><td>0</td><td>0</td><td>0</td><td>0</td><td>1</td><td>0</td><td>0</td><td>1</td><td>0</td></tr><tr><td>&quot;R000001&quot;</td><td>&quot;2017-01-01&quot;</td><td>0</td><td>17</td><td>&quot;U0824&quot;</td><td>&quot;S031&quot;</td><td>31</td><td>&quot;Seocho Station 2&quot;</td><td>&quot;Seocho&quot;</td><td>37.429762</td><td>127.110368</td><td>&quot;residential&quot;</td><td>19</td><td>&quot;7,8,18,19,20&quot;</td><td>&quot;all&quot;</td><td>0.68</td><td>&quot;periodic&quot;</td><td>&quot;2024-10-08&quot;</td><td>&quot;7,8,17,18,19&quot;</td><td>&quot;weekday&quot;</td><td>11</td><td>0</td><td>0</td><td>0</td><td>0</td><td>1</td><td>0</td><td>0</td><td>0</td><td>0</td><td>0</td><td>1</td><td>0</td><td>0</td><td>0</td><td>0</td><td>0</td><td>0</td><td>0</td><td>1</td><td>0</td><td>0</td><td>0</td><td>1</td><td>0</td><td>0</td><td>1</td><td>1</td><td>0</td><td>0</td><td>0</td><td>0</td><td>0</td><td>0</td><td>0</td><td>1</td><td>0</td><td>0</td></tr><tr><td>&quot;R000002&quot;</td><td>&quot;2017-01-01&quot;</td><td>0</td><td>38</td><td>&quot;U0954&quot;</td><td>&quot;S035&quot;</td><td>45</td><td>&quot;Seodaemun Station 5&quot;</td><td>&quot;Seodaemun&quot;</td><td>37.529528</td><td>126.872021</td><td>&quot;transit&quot;</td><td>38</td><td>&quot;7,8,9,17,18,19,20&quot;</td><td>&quot;weekday&quot;</td><td>0.77</td><td>&quot;rare&quot;</td><td>&quot;2024-05-26&quot;</td><td>&quot;7,8,9&quot;</td><td>&quot;weekend&quot;</td><td>2</td><td>0</td><td>0</td><td>1</td><td>0</td><td>0</td><td>0</td><td>0</td><td>0</td><td>0</td><td>0</td><td>0</td><td>0</td><td>0</td><td>1</td><td>0</td><td>0</td><td>1</td><td>0</td><td>0</td><td>0</td><td>1</td><td>0</td><td>0</td><td>1</td><td>0</td><td>0</td><td>0</td><td>0</td><td>0</td><td>0</td><td>0</td><td>0</td><td>0</td><td>1</td><td>0</td><td>1</td><td>0</td></tr><tr><td>&quot;R000003&quot;</td><td>&quot;2017-01-01&quot;</td><td>0</td><td>41</td><td>&quot;U0047&quot;</td><td>&quot;S061&quot;</td><td>55</td><td>&quot;Mapo Station 5&quot;</td><td>&quot;Mapo&quot;</td><td>37.662058</td><td>126.992142</td><td>&quot;residential&quot;</td><td>19</td><td>&quot;7,8,18,19,20&quot;</td><td>&quot;all&quot;</td><td>0.67</td><td>&quot;periodic&quot;</td><td>&quot;2023-06-17&quot;</td><td>&quot;7,8,17,18,19&quot;</td><td>&quot;weekend&quot;</td><td>11</td><td>0</td><td>0</td><td>0</td><td>0</td><td>0</td><td>1</td><td>0</td><td>0</td><td>0</td><td>0</td><td>1</td><td>0</td><td>0</td><td>0</td><td>0</td><td>0</td><td>0</td><td>0</td><td>1</td><td>0</td><td>0</td><td>0</td><td>1</td><td>0</td><td>0</td><td>1</td><td>1</td><td>0</td><td>0</td><td>0</td><td>0</td><td>0</td><td>0</td><td>0</td><td>0</td><td>1</td><td>0</td></tr><tr><td>&quot;R000004&quot;</td><td>&quot;2017-01-01&quot;</td><td>0</td><td>25</td><td>&quot;U0908&quot;</td><td>&quot;S079&quot;</td><td>21</td><td>&quot;Gangnam Station 10&quot;</td><td>&quot;Gangnam&quot;</td><td>37.649585</td><td>126.953299</td><td>&quot;business&quot;</td><td>21</td><td>&quot;8,9,17,18,19&quot;</td><td>&quot;weekday&quot;</td><td>0.87</td><td>&quot;periodic&quot;</td><td>&quot;2022-06-10&quot;</td><td>&quot;10,11,12,13,14,15,16&quot;</td><td>&quot;weekend&quot;</td><td>9</td><td>0</td><td>1</td><td>0</td><td>0</td><td>0</td><td>0</td><td>0</td><td>0</td><td>0</td><td>0</td><td>0</td><td>0</td><td>0</td><td>0</td><td>1</td><td>0</td><td>0</td><td>0</td><td>0</td><td>1</td><td>1</td><td>0</td><td>0</td><td>0</td><td>0</td><td>1</td><td>0</td><td>0</td><td>0</td><td>1</td><td>0</td><td>0</td><td>0</td><td>0</td><td>0</td><td>1</td><td>0</td></tr><tr><td>&hellip;</td><td>&hellip;</td><td>&hellip;</td><td>&hellip;</td><td>&hellip;</td><td>&hellip;</td><td>&hellip;</td><td>&hellip;</td><td>&hellip;</td><td>&hellip;</td><td>&hellip;</td><td>&hellip;</td><td>&hellip;</td><td>&hellip;</td><td>&hellip;</td><td>&hellip;</td><td>&hellip;</td><td>&hellip;</td><td>&hellip;</td><td>&hellip;</td><td>&hellip;</td><td>&hellip;</td><td>&hellip;</td><td>&hellip;</td><td>&hellip;</td><td>&hellip;</td><td>&hellip;</td><td>&hellip;</td><td>&hellip;</td><td>&hellip;</td><td>&hellip;</td><td>&hellip;</td><td>&hellip;</td><td>&hellip;</td><td>&hellip;</td><td>&hellip;</td><td>&hellip;</td><td>&hellip;</td><td>&hellip;</td><td>&hellip;</td><td>&hellip;</td><td>&hellip;</td><td>&hellip;</td><td>&hellip;</td><td>&hellip;</td><td>&hellip;</td><td>&hellip;</td><td>&hellip;</td><td>&hellip;</td><td>&hellip;</td><td>&hellip;</td><td>&hellip;</td><td>&hellip;</td><td>&hellip;</td><td>&hellip;</td><td>&hellip;</td><td>&hellip;</td><td>&hellip;</td></tr><tr><td>&quot;R039700&quot;</td><td>&quot;2017-01-31&quot;</td><td>0</td><td>52</td><td>&quot;U0450&quot;</td><td>&quot;S028&quot;</td><td>43</td><td>&quot;Eunpyeong Station 5&quot;</td><td>&quot;Eunpyeong&quot;</td><td>37.549747</td><td>126.820877</td><td>&quot;residential&quot;</td><td>28</td><td>&quot;7,8,18,19,20&quot;</td><td>&quot;all&quot;</td><td>0.36</td><td>&quot;frequent&quot;</td><td>&quot;2024-07-25&quot;</td><td>&quot;7,8,9,12,13,17,18,19&quot;</td><td>&quot;weekday&quot;</td><td>31</td><td>0</td><td>0</td><td>0</td><td>0</td><td>0</td><td>0</td><td>0</td><td>0</td><td>0</td><td>1</td><td>1</td><td>0</td><td>0</td><td>0</td><td>0</td><td>0</td><td>0</td><td>0</td><td>1</td><td>0</td><td>0</td><td>0</td><td>1</td><td>0</td><td>1</td><td>0</td><td>0</td><td>0</td><td>0</td><td>0</td><td>0</td><td>1</td><td>0</td><td>0</td><td>1</td><td>0</td><td>0</td></tr><tr><td>&quot;R039701&quot;</td><td>&quot;2017-01-31&quot;</td><td>0</td><td>58</td><td>&quot;U0335&quot;</td><td>&quot;S098&quot;</td><td>47</td><td>&quot;Yongsan Station 8&quot;</td><td>&quot;Yongsan&quot;</td><td>37.655234</td><td>126.86414</td><td>&quot;mixed&quot;</td><td>34</td><td>&quot;8,9,12,13,17,18,19&quot;</td><td>&quot;all&quot;</td><td>0.42</td><td>&quot;frequent&quot;</td><td>&quot;2024-03-01&quot;</td><td>&quot;7,8,9,17,18,19&quot;</td><td>&quot;weekday&quot;</td><td>35</td><td>1</td><td>0</td><td>0</td><td>0</td><td>0</td><td>0</td><td>0</td><td>0</td><td>0</td><td>0</td><td>0</td><td>1</td><td>0</td><td>0</td><td>0</td><td>1</td><td>0</td><td>0</td><td>0</td><td>0</td><td>0</td><td>0</td><td>1</td><td>0</td><td>1</td><td>0</td><td>0</td><td>0</td><td>0</td><td>0</td><td>1</td><td>0</td><td>0</td><td>0</td><td>1</td><td>0</td><td>0</td></tr><tr><td>&quot;R039702&quot;</td><td>&quot;2017-01-31&quot;</td><td>0</td><td>0</td><td>&quot;U0628&quot;</td><td>&quot;S040&quot;</td><td>52</td><td>&quot;Gangnam Station 2&quot;</td><td>&quot;Gangnam&quot;</td><td>37.429918</td><td>127.072508</td><td>&quot;transit&quot;</td><td>41</td><td>&quot;7,8,9,17,18,19,20&quot;</td><td>&quot;weekday&quot;</td><td>0.74</td><td>&quot;rare&quot;</td><td>&quot;2024-06-17&quot;</td><td>&quot;7,8,9&quot;</td><td>&quot;weekend&quot;</td><td>4</td><td>0</td><td>1</td><td>0</td><td>0</td><td>0</td><td>0</td><td>0</td><td>0</td><td>0</td><td>0</td><td>0</td><td>0</td><td>0</td><td>1</td><td>0</td><td>0</td><td>1</td><td>0</td><td>0</td><td>0</td><td>1</td><td>0</td><td>0</td><td>1</td><td>0</td><td>0</td><td>0</td><td>0</td><td>0</td><td>0</td><td>0</td><td>0</td><td>0</td><td>1</td><td>0</td><td>1</td><td>0</td></tr><tr><td>&quot;R039703&quot;</td><td>&quot;2017-01-31&quot;</td><td>0</td><td>13</td><td>&quot;U0220&quot;</td><td>&quot;S078&quot;</td><td>34</td><td>&quot;Yeongdeungpo Station 3&quot;</td><td>&quot;Yeongdeungpo&quot;</td><td>37.421441</td><td>127.016106</td><td>&quot;transit&quot;</td><td>52</td><td>&quot;7,8,9,17,18,19,20&quot;</td><td>&quot;weekday&quot;</td><td>0.7</td><td>&quot;rare&quot;</td><td>&quot;2024-11-17&quot;</td><td>&quot;7,8,9&quot;</td><td>&quot;weekend&quot;</td><td>4</td><td>0</td><td>0</td><td>0</td><td>1</td><td>0</td><td>0</td><td>0</td><td>0</td><td>0</td><td>0</td><td>0</td><td>0</td><td>0</td><td>1</td><td>0</td><td>0</td><td>1</td><td>0</td><td>0</td><td>0</td><td>1</td><td>0</td><td>0</td><td>1</td><td>0</td><td>0</td><td>0</td><td>0</td><td>0</td><td>0</td><td>0</td><td>0</td><td>0</td><td>1</td><td>0</td><td>1</td><td>0</td></tr><tr><td>&quot;R039704&quot;</td><td>&quot;2017-01-31&quot;</td><td>0</td><td>31</td><td>&quot;U0146&quot;</td><td>&quot;S079&quot;</td><td>55</td><td>&quot;Gangnam Station 10&quot;</td><td>&quot;Gangnam&quot;</td><td>37.649585</td><td>126.953299</td><td>&quot;business&quot;</td><td>21</td><td>&quot;8,9,17,18,19&quot;</td><td>&quot;weekday&quot;</td><td>0.87</td><td>&quot;frequent&quot;</td><td>&quot;2022-11-25&quot;</td><td>&quot;7,8,9,17,18,19&quot;</td><td>&quot;weekday&quot;</td><td>24</td><td>0</td><td>1</td><td>0</td><td>0</td><td>0</td><td>0</td><td>0</td><td>0</td><td>0</td><td>0</td><td>0</td><td>0</td><td>0</td><td>0</td><td>1</td><td>0</td><td>0</td><td>0</td><td>0</td><td>1</td><td>1</td><td>0</td><td>0</td><td>0</td><td>1</td><td>0</td><td>0</td><td>0</td><td>0</td><td>0</td><td>1</td><td>0</td><td>0</td><td>0</td><td>1</td><td>0</td><td>0</td></tr></tbody></table></div>"
      ],
      "text/plain": [
       "shape: (39_705, 58)\n",
       "┌───────────┬────────────┬──────┬────────┬───┬─────────────┬─────────────┬────────────┬────────────┐\n",
       "│ rental_id ┆ date       ┆ hour ┆ minute ┆ … ┆ preferred_h ┆ preferred_d ┆ preferred_ ┆ preferred_ │\n",
       "│ ---       ┆ ---        ┆ ---  ┆ ---    ┆   ┆ ours_7,8,9  ┆ ays_weekday ┆ days_weeke ┆ days_all   │\n",
       "│ str       ┆ str        ┆ i64  ┆ i64    ┆   ┆ ---         ┆ ---         ┆ nd         ┆ ---        │\n",
       "│           ┆            ┆      ┆        ┆   ┆ i32         ┆ i32         ┆ ---        ┆ i32        │\n",
       "│           ┆            ┆      ┆        ┆   ┆             ┆             ┆ i32        ┆            │\n",
       "╞═══════════╪════════════╪══════╪════════╪═══╪═════════════╪═════════════╪════════════╪════════════╡\n",
       "│ R000000   ┆ 2017-01-01 ┆ 0    ┆ 45     ┆ … ┆ 0           ┆ 0           ┆ 1          ┆ 0          │\n",
       "│ R000001   ┆ 2017-01-01 ┆ 0    ┆ 17     ┆ … ┆ 0           ┆ 1           ┆ 0          ┆ 0          │\n",
       "│ R000002   ┆ 2017-01-01 ┆ 0    ┆ 38     ┆ … ┆ 1           ┆ 0           ┆ 1          ┆ 0          │\n",
       "│ R000003   ┆ 2017-01-01 ┆ 0    ┆ 41     ┆ … ┆ 0           ┆ 0           ┆ 1          ┆ 0          │\n",
       "│ R000004   ┆ 2017-01-01 ┆ 0    ┆ 25     ┆ … ┆ 0           ┆ 0           ┆ 1          ┆ 0          │\n",
       "│ …         ┆ …          ┆ …    ┆ …      ┆ … ┆ …           ┆ …           ┆ …          ┆ …          │\n",
       "│ R039700   ┆ 2017-01-31 ┆ 0    ┆ 52     ┆ … ┆ 0           ┆ 1           ┆ 0          ┆ 0          │\n",
       "│ R039701   ┆ 2017-01-31 ┆ 0    ┆ 58     ┆ … ┆ 0           ┆ 1           ┆ 0          ┆ 0          │\n",
       "│ R039702   ┆ 2017-01-31 ┆ 0    ┆ 0      ┆ … ┆ 1           ┆ 0           ┆ 1          ┆ 0          │\n",
       "│ R039703   ┆ 2017-01-31 ┆ 0    ┆ 13     ┆ … ┆ 1           ┆ 0           ┆ 1          ┆ 0          │\n",
       "│ R039704   ┆ 2017-01-31 ┆ 0    ┆ 31     ┆ … ┆ 0           ┆ 1           ┆ 0          ┆ 0          │\n",
       "└───────────┴────────────┴──────┴────────┴───┴─────────────┴─────────────┴────────────┴────────────┘"
      ]
     },
     "execution_count": 87,
     "metadata": {},
     "output_type": "execute_result"
    }
   ],
   "source": [
    "unifield_df_with_binary_cat_cols"
   ]
  },
  {
   "cell_type": "code",
   "execution_count": 105,
   "id": "a4cea760",
   "metadata": {},
   "outputs": [],
   "source": [
    "unified_df_datetime = unifield_df_with_binary_cat_cols.with_columns(\n",
    "      pl.datetime(\n",
    "          year=pl.col(\"date\").str.strptime(pl.Date,\n",
    "  \"%Y-%m-%d\").dt.year(),\n",
    "          month=pl.col(\"date\").str.strptime(pl.Date,\n",
    "  \"%Y-%m-%d\").dt.month(),\n",
    "          day=pl.col(\"date\").str.strptime(pl.Date, \"%Y-%m-%d\").dt.day(),\n",
    "          hour=pl.col(\"hour\"),\n",
    "          minute=pl.col(\"minute\")\n",
    "      ).alias(\"datetime\")\n",
    "  )\n",
    "\n",
    "unified_df_timestamp = unified_df_datetime.with_columns(\n",
    "    pl.col(\"datetime\").dt.epoch(time_unit=\"s\").alias(\"datetime\").alias(\"unix_timestamp\")\n",
    ")"
   ]
  },
  {
   "cell_type": "markdown",
   "id": "bdc24943",
   "metadata": {},
   "source": [
    "# work with numpy"
   ]
  },
  {
   "cell_type": "code",
   "execution_count": 106,
   "id": "594e98e4",
   "metadata": {},
   "outputs": [
    {
     "data": {
      "text/plain": [
       "array([1483231500, 1483229820, 1483231080, ..., 1485820800, 1485821580,\n",
       "       1485822660], shape=(39705,))"
      ]
     },
     "execution_count": 106,
     "metadata": {},
     "output_type": "execute_result"
    }
   ],
   "source": [
    "def get_numpy_col_from_num(df: pl.DataFrame, col: str) -> np.ndarray:\n",
    "    return df.select(col).to_numpy().flatten()\n",
    "\n",
    "duration_vec = get_numpy_col_from_num(unified_df_timestamp, \"duration_minutes\")\n",
    "timestamp_vec = get_numpy_col_from_num(unified_df_timestamp, \"unix_timestamp\")\n",
    "capacity_vec = get_numpy_col_from_num(unified_df_timestamp, \"capacity\")\n",
    "\n",
    "timestamp_vec"
   ]
  },
  {
   "cell_type": "code",
   "execution_count": null,
   "id": "5c444dfc",
   "metadata": {},
   "outputs": [],
   "source": []
  },
  {
   "cell_type": "code",
   "execution_count": null,
   "id": "f6152077",
   "metadata": {},
   "outputs": [],
   "source": [
    "# 2. Create matrices representing different aspects of the data\n",
    "       # Time-based matrix (hour x day patterns)\n",
    "       unique_hours = np.unique(hour_vector)\n",
    "       days_sample = 30  # First 30 days\n",
    "       time_matrix = np.zeros((len(unique_hours), days_sample))\n",
    "\n",
    "       # Fill matrix with rental counts per hour per day\n",
    "       for day in range(days_sample):\n",
    "           day_data = unified_df.filter(\n",
    "               (pl.col(\"date\") >= \"2017-01-01\") &\n",
    "               (pl.col(\"date\") <= \"2017-01-30\")\n",
    "           ).group_by(\"hour\").agg(pl.count().alias(\"count\"))\n",
    "\n",
    "           if len(day_data) > 0:\n",
    "               hours_data = day_data.select(\"hour\").to_numpy().flatten()\n",
    "               counts_data =\n",
    "       day_data.select(\"count\").to_numpy().flatten()\n",
    "               for i, hour in enumerate(hours_data):\n",
    "                   if hour < len(unique_hours):\n",
    "                       time_matrix[hour, day] = counts_data[i]\n",
    "\n",
    "       print(f\"Time matrix shape: {time_matrix.shape}\")\n",
    "       print(f\"Sample of time matrix:\\n{time_matrix[:5, :5]}\")\n",
    "\n",
    "       # Station metrics matrix (stations x metrics)\n",
    "       station_ids =\n",
    "       unified_df.select(\"station_id\").unique().to_numpy().flatten()\n",
    "       n_stations = min(len(station_ids), 20)  # Limit to first 20 \n",
    "       stations for demo\n",
    "\n",
    "       station_metrics = np.zeros((n_stations, 4))  # 4 metrics: \n",
    "       capacity, usage_intensity, avg_duration, total_rentals\n",
    "\n",
    "       for i in range(n_stations):\n",
    "           station_data = unified_df.filter(pl.col(\"station_id\") ==\n",
    "       station_ids[i])\n",
    "           if len(station_data) > 0:\n",
    "               station_metrics[i, 0] =\n",
    "       station_data.select(\"capacity\").mean().item()\n",
    "               station_metrics[i, 1] =\n",
    "       station_data.select(\"usage_intensity\").mean().item()\n",
    "               station_metrics[i, 2] =\n",
    "       station_data.select(\"duration_minutes\").mean().item()\n",
    "               station_metrics[i, 3] = len(station_data)\n",
    "\n",
    "       print(f\"\\nStation metrics matrix shape: {station_metrics.shape}\")\n",
    "       print(f\"Columns: [capacity, usage_intensity, avg_duration, \n",
    "       total_rentals]\")\n",
    "       print(f\"Sample station metrics:\\n{station_metrics[:5]}\")"
   ]
  },
  {
   "cell_type": "code",
   "execution_count": null,
   "id": "b467ffce",
   "metadata": {},
   "outputs": [],
   "source": [
    "  print(\"=== INDEXING AND SLICING OPERATIONS ===\")\n",
    "\n",
    "       # Extract morning hours (7-11) from time matrix\n",
    "       morning_hours = time_matrix[7:12, :]\n",
    "       print(f\"Morning hours data shape: {morning_hours.shape}\")\n",
    "       print(f\"Morning rentals (first 5 days):\\n{morning_hours[:, :5]}\")\n",
    "\n",
    "       # Extract weekend data (assuming days 5,6,12,13,19,20,26,27 are \n",
    "       weekends in first month)\n",
    "       weekend_days = [5, 6, 12, 13, 19, 20, 26, 27]\n",
    "       weekend_data = time_matrix[:, weekend_days]\n",
    "       print(f\"\\nWeekend data shape: {weekend_data.shape}\")\n",
    "\n",
    "       # Extract evening peak hours (17-20) for specific days\n",
    "       evening_peak = time_matrix[17:21, 0:7]  # First week evening data\n",
    "       print(f\"Evening peak (first week) shape: {evening_peak.shape}\")\n",
    "\n",
    "       # Slice station metrics for high-usage stations\n",
    "       high_usage_mask = station_metrics[:, 1] > 0.7  # usage_intensity > \n",
    "       0.7\n",
    "       high_usage_stations = station_metrics[high_usage_mask]\n",
    "       print(f\"\\nHigh usage stations shape: {high_usage_stations.shape}\")\n",
    "       print(f\"High usage stations metrics:\\n{high_usage_stations}\")\n",
    "\n",
    "       # Extract specific metrics columns\n",
    "       capacity_column = station_metrics[:, 0]  # All capacities\n",
    "       duration_column = station_metrics[:, 2]  # All average durations\n",
    "       print(f\"\\nCapacity values for first 10 stations: \n",
    "       {capacity_column[:10]}\")\n",
    "       print(f\"Duration values for first 10 stations: \n",
    "       {duration_column[:10]}\")"
   ]
  },
  {
   "cell_type": "code",
   "execution_count": null,
   "id": "5fd9004f",
   "metadata": {},
   "outputs": [],
   "source": [
    "    # 4. Vector operations (addition, subtraction, scalar \n",
    "       multiplication)\n",
    "       print(\"=== VECTOR OPERATIONS ===\")\n",
    "\n",
    "       # Take smaller samples for demonstration\n",
    "       duration_sample = duration_vector[:1000]\n",
    "       capacity_sample = capacity_vector[:1000]\n",
    "       usage_sample = usage_intensity_vector[:1000]\n",
    "\n",
    "       # Vector addition - combine duration and capacity effects\n",
    "       combined_metric = duration_sample + capacity_sample\n",
    "       print(f\"Combined metric (duration + capacity) sample: \n",
    "       {combined_metric[:10]}\")\n",
    "\n",
    "       # Vector subtraction - difference between capacity and usage\n",
    "       capacity_gap = capacity_sample - (usage_sample * 100)  # Scale \n",
    "       usage for comparison\n",
    "       print(f\"Capacity gap sample: {capacity_gap[:10]}\")\n",
    "\n",
    "       # Scalar multiplication - normalize durations to hours\n",
    "       duration_hours = duration_sample / 60.0\n",
    "       print(f\"Duration in hours sample: {duration_hours[:10]}\")\n",
    "\n",
    "       # Element-wise multiplication\n",
    "       efficiency_metric = duration_sample * usage_sample\n",
    "       print(f\"Efficiency metric (duration × usage) sample: \n",
    "       {efficiency_metric[:10]}\")\n",
    "\n",
    "       # Vector norms and statistics\n",
    "       print(f\"\\nVector statistics:\")\n",
    "       print(f\"Duration vector L2 norm: \n",
    "       {np.linalg.norm(duration_sample):.2f}\")\n",
    "       print(f\"Duration vector mean: {np.mean(duration_sample):.2f}\")\n",
    "       print(f\"Duration vector std: {np.std(duration_sample):.2f}\")\n",
    "\n",
    "       # Dot product between vectors\n",
    "       duration_capacity_dot = np.dot(duration_sample, capacity_sample)\n",
    "       print(f\"Dot product (duration • capacity): \n",
    "       {duration_capacity_dot:.2f}\")\n",
    "       "
   ]
  },
  {
   "cell_type": "code",
   "execution_count": null,
   "id": "096d3e58",
   "metadata": {},
   "outputs": [],
   "source": [
    " # 5. Broadcasting operations with different shaped arrays\n",
    "       print(\"=== BROADCASTING OPERATIONS ===\")\n",
    "\n",
    "       # Create arrays of different shapes for broadcasting\n",
    "       hourly_pattern = np.array([0.5, 0.7, 0.8, 0.9, 1.2, 1.5, 1.8, 1.0,\n",
    "       0.8, 0.6])  # 10 hours pattern\n",
    "       daily_multiplier = np.array([[1.0], [1.2], [0.8], [1.1], [0.9]])  #\n",
    "        5 days multiplier (column vector)\n",
    "\n",
    "       print(f\"Hourly pattern shape: {hourly_pattern.shape}\")\n",
    "       print(f\"Daily multiplier shape: {daily_multiplier.shape}\")\n",
    "\n",
    "       # Broadcasting: multiply hourly pattern by daily multiplier\n",
    "       demand_matrix = daily_multiplier * hourly_pattern\n",
    "       print(f\"\\nDemand matrix shape after broadcasting: \n",
    "       {demand_matrix.shape}\")\n",
    "       print(f\"Demand matrix:\\n{demand_matrix}\")\n",
    "\n",
    "       # Broadcasting with station metrics\n",
    "       station_base_capacity = station_metrics[:5, 0]  # First 5 stations \n",
    "       capacity\n",
    "       time_adjustment = np.array([0.8, 1.0, 1.2, 0.9])  # 4 time periods\n",
    "\n",
    "       print(f\"\\nStation capacity shape: {station_base_capacity.shape}\")\n",
    "       print(f\"Time adjustment shape: {time_adjustment.shape}\")\n",
    "\n",
    "       # Broadcast to create time-adjusted capacity matrix\n",
    "       adjusted_capacity = station_base_capacity.reshape(-1, 1) *\n",
    "       time_adjustment\n",
    "       print(f\"Adjusted capacity shape: {adjusted_capacity.shape}\")\n",
    "       print(f\"Adjusted capacity matrix:\\n{adjusted_capacity}\")\n",
    "\n",
    "       # More complex broadcasting: add weather effect\n",
    "       weather_effect = np.array([1.1, 0.9, 1.0, 1.2, 0.8])  # 5 weather \n",
    "       conditions\n",
    "       station_weather_capacity = station_base_capacity.reshape(-1, 1, 1)\n",
    "       * time_adjustment.reshape(1, -1, 1) * weather_effect.reshape(1, 1,\n",
    "       -1)\n",
    "\n",
    "       print(f\"\\nStation-Time-Weather capacity shape: \n",
    "       {station_weather_capacity.shape}\")\n",
    "       print(f\"Sample of 3D broadcasted array (station \n",
    "       0):\\n{station_weather_capacity[0]}\")\n",
    "\n",
    "       # Broadcasting with boolean operations\n",
    "       high_capacity_mask = station_base_capacity > 30\n",
    "       print(f\"\\nHigh capacity stations mask: {high_capacity_mask}\")\n",
    "\n",
    "       # Apply mask with broadcasting\n",
    "       filtered_adjusted = np.where(high_capacity_mask.reshape(-1, 1),\n",
    "       adjusted_capacity, 0)\n",
    "       print(f\"Filtered adjusted capacity (high capacity stations \n",
    "       only):\\n{filtered_adjusted}\")"
   ]
  }
 ],
 "metadata": {
  "kernelspec": {
   "display_name": "lab1",
   "language": "python",
   "name": "python3"
  },
  "language_info": {
   "codemirror_mode": {
    "name": "ipython",
    "version": 3
   },
   "file_extension": ".py",
   "mimetype": "text/x-python",
   "name": "python",
   "nbconvert_exporter": "python",
   "pygments_lexer": "ipython3",
   "version": "3.12.9"
  }
 },
 "nbformat": 4,
 "nbformat_minor": 5
}
